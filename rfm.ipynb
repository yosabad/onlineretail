{
 "cells": [
  {
   "cell_type": "markdown",
   "id": "fb18e1d1",
   "metadata": {},
   "source": [
    "## Business Understanding"
   ]
  },
  {
   "cell_type": "markdown",
   "id": "3e861aa8",
   "metadata": {},
   "source": [
    "This Online Retail II data set contains all the transactions occurring for a UK-based and registered, non-store online retail between 01/12/2009 and 09/12/2011.The company mainly sells unique all-occasion gift-ware. Many customers of the company are wholesalers."
   ]
  },
  {
   "cell_type": "markdown",
   "id": "4e674613",
   "metadata": {},
   "source": [
    "#### Goals"
   ]
  },
  {
   "cell_type": "markdown",
   "id": "288c0cec",
   "metadata": {},
   "source": [
    "- To get the segmentation of all customers"
   ]
  },
  {
   "cell_type": "markdown",
   "id": "6dfb392b",
   "metadata": {},
   "source": [
    "## Data Understanding"
   ]
  },
  {
   "cell_type": "code",
   "execution_count": 432,
   "id": "a59f772f",
   "metadata": {},
   "outputs": [],
   "source": [
    "# Import dependencies\n",
    "import pandas as pd\n",
    "import numpy as np\n",
    "import matplotlib.pyplot as plt\n",
    "import seaborn as sns\n",
    "\n",
    "from datetime import datetime, timedelta\n",
    "\n",
    "from sklearn.preprocessing import StandardScaler\n",
    "from sklearn.cluster import KMeans\n",
    "from sklearn.metrics import silhouette_samples, silhouette_score\n",
    "from sklearn.linear_model import LogisticRegression\n",
    "from sklearn.tree import DecisionTreeClassifier\n",
    "from sklearn.ensemble import RandomForestClassifier, GradientBoostingClassifier\n",
    "from xgboost import XGBClassifier\n",
    "\n",
    "from sklearn.pipeline import Pipeline\n",
    "from sklearn.model_selection import GridSearchCV, KFold\n",
    "from sklearn.metrics import classification_report\n",
    "from sklearn.model_selection import cross_val_score\n",
    "from sklearn.model_selection import cross_val_predict\n",
    "from sklearn.metrics import confusion_matrix\n",
    "\n",
    "import warnings\n",
    "warnings.filterwarnings(\"ignore\")"
   ]
  },
  {
   "cell_type": "code",
   "execution_count": 138,
   "id": "f26a4270",
   "metadata": {},
   "outputs": [
    {
     "data": {
      "text/html": [
       "<div>\n",
       "<style scoped>\n",
       "    .dataframe tbody tr th:only-of-type {\n",
       "        vertical-align: middle;\n",
       "    }\n",
       "\n",
       "    .dataframe tbody tr th {\n",
       "        vertical-align: top;\n",
       "    }\n",
       "\n",
       "    .dataframe thead th {\n",
       "        text-align: right;\n",
       "    }\n",
       "</style>\n",
       "<table border=\"1\" class=\"dataframe\">\n",
       "  <thead>\n",
       "    <tr style=\"text-align: right;\">\n",
       "      <th></th>\n",
       "      <th>Invoice</th>\n",
       "      <th>StockCode</th>\n",
       "      <th>Description</th>\n",
       "      <th>Quantity</th>\n",
       "      <th>InvoiceDate</th>\n",
       "      <th>Price</th>\n",
       "      <th>Customer ID</th>\n",
       "      <th>Country</th>\n",
       "    </tr>\n",
       "  </thead>\n",
       "  <tbody>\n",
       "    <tr>\n",
       "      <th>0</th>\n",
       "      <td>489434</td>\n",
       "      <td>85048</td>\n",
       "      <td>15CM CHRISTMAS GLASS BALL 20 LIGHTS</td>\n",
       "      <td>12</td>\n",
       "      <td>2009-12-01 07:45:00</td>\n",
       "      <td>6.95</td>\n",
       "      <td>13085.0</td>\n",
       "      <td>United Kingdom</td>\n",
       "    </tr>\n",
       "    <tr>\n",
       "      <th>1</th>\n",
       "      <td>489434</td>\n",
       "      <td>79323P</td>\n",
       "      <td>PINK CHERRY LIGHTS</td>\n",
       "      <td>12</td>\n",
       "      <td>2009-12-01 07:45:00</td>\n",
       "      <td>6.75</td>\n",
       "      <td>13085.0</td>\n",
       "      <td>United Kingdom</td>\n",
       "    </tr>\n",
       "    <tr>\n",
       "      <th>2</th>\n",
       "      <td>489434</td>\n",
       "      <td>79323W</td>\n",
       "      <td>WHITE CHERRY LIGHTS</td>\n",
       "      <td>12</td>\n",
       "      <td>2009-12-01 07:45:00</td>\n",
       "      <td>6.75</td>\n",
       "      <td>13085.0</td>\n",
       "      <td>United Kingdom</td>\n",
       "    </tr>\n",
       "    <tr>\n",
       "      <th>3</th>\n",
       "      <td>489434</td>\n",
       "      <td>22041</td>\n",
       "      <td>RECORD FRAME 7\" SINGLE SIZE</td>\n",
       "      <td>48</td>\n",
       "      <td>2009-12-01 07:45:00</td>\n",
       "      <td>2.10</td>\n",
       "      <td>13085.0</td>\n",
       "      <td>United Kingdom</td>\n",
       "    </tr>\n",
       "    <tr>\n",
       "      <th>4</th>\n",
       "      <td>489434</td>\n",
       "      <td>21232</td>\n",
       "      <td>STRAWBERRY CERAMIC TRINKET BOX</td>\n",
       "      <td>24</td>\n",
       "      <td>2009-12-01 07:45:00</td>\n",
       "      <td>1.25</td>\n",
       "      <td>13085.0</td>\n",
       "      <td>United Kingdom</td>\n",
       "    </tr>\n",
       "  </tbody>\n",
       "</table>\n",
       "</div>"
      ],
      "text/plain": [
       "  Invoice StockCode                          Description  Quantity  \\\n",
       "0  489434     85048  15CM CHRISTMAS GLASS BALL 20 LIGHTS        12   \n",
       "1  489434    79323P                   PINK CHERRY LIGHTS        12   \n",
       "2  489434    79323W                  WHITE CHERRY LIGHTS        12   \n",
       "3  489434     22041         RECORD FRAME 7\" SINGLE SIZE         48   \n",
       "4  489434     21232       STRAWBERRY CERAMIC TRINKET BOX        24   \n",
       "\n",
       "           InvoiceDate  Price  Customer ID         Country  \n",
       "0  2009-12-01 07:45:00   6.95      13085.0  United Kingdom  \n",
       "1  2009-12-01 07:45:00   6.75      13085.0  United Kingdom  \n",
       "2  2009-12-01 07:45:00   6.75      13085.0  United Kingdom  \n",
       "3  2009-12-01 07:45:00   2.10      13085.0  United Kingdom  \n",
       "4  2009-12-01 07:45:00   1.25      13085.0  United Kingdom  "
      ]
     },
     "execution_count": 138,
     "metadata": {},
     "output_type": "execute_result"
    }
   ],
   "source": [
    "# Load dataset\n",
    "ret = pd.read_csv('online_retail_II.csv')\n",
    "ret.head()"
   ]
  },
  {
   "cell_type": "code",
   "execution_count": 139,
   "id": "6fa34bea",
   "metadata": {},
   "outputs": [
    {
     "data": {
      "text/plain": [
       "(1067371, 8)"
      ]
     },
     "execution_count": 139,
     "metadata": {},
     "output_type": "execute_result"
    }
   ],
   "source": [
    "# Shape\n",
    "ret.shape"
   ]
  },
  {
   "cell_type": "code",
   "execution_count": 140,
   "id": "6521e6fc",
   "metadata": {},
   "outputs": [
    {
     "name": "stdout",
     "output_type": "stream",
     "text": [
      "<class 'pandas.core.frame.DataFrame'>\n",
      "RangeIndex: 1067371 entries, 0 to 1067370\n",
      "Data columns (total 8 columns):\n",
      " #   Column       Non-Null Count    Dtype  \n",
      "---  ------       --------------    -----  \n",
      " 0   Invoice      1067371 non-null  object \n",
      " 1   StockCode    1067371 non-null  object \n",
      " 2   Description  1062989 non-null  object \n",
      " 3   Quantity     1067371 non-null  int64  \n",
      " 4   InvoiceDate  1067371 non-null  object \n",
      " 5   Price        1067371 non-null  float64\n",
      " 6   Customer ID  824364 non-null   float64\n",
      " 7   Country      1067371 non-null  object \n",
      "dtypes: float64(2), int64(1), object(5)\n",
      "memory usage: 65.1+ MB\n"
     ]
    }
   ],
   "source": [
    "# Information of dataset\n",
    "ret.info()"
   ]
  },
  {
   "cell_type": "code",
   "execution_count": 141,
   "id": "53a40b93",
   "metadata": {},
   "outputs": [
    {
     "data": {
      "text/plain": [
       "Invoice             0\n",
       "StockCode           0\n",
       "Description      4382\n",
       "Quantity            0\n",
       "InvoiceDate         0\n",
       "Price               0\n",
       "Customer ID    243007\n",
       "Country             0\n",
       "dtype: int64"
      ]
     },
     "execution_count": 141,
     "metadata": {},
     "output_type": "execute_result"
    }
   ],
   "source": [
    "# Check null value\n",
    "ret.isna().sum()"
   ]
  },
  {
   "cell_type": "code",
   "execution_count": 142,
   "id": "43764493",
   "metadata": {},
   "outputs": [
    {
     "data": {
      "text/plain": [
       "34335"
      ]
     },
     "execution_count": 142,
     "metadata": {},
     "output_type": "execute_result"
    }
   ],
   "source": [
    "# Check duplicate\n",
    "ret.duplicated().sum()"
   ]
  },
  {
   "cell_type": "code",
   "execution_count": 143,
   "id": "57ac8a89",
   "metadata": {},
   "outputs": [
    {
     "data": {
      "text/html": [
       "<div>\n",
       "<style scoped>\n",
       "    .dataframe tbody tr th:only-of-type {\n",
       "        vertical-align: middle;\n",
       "    }\n",
       "\n",
       "    .dataframe tbody tr th {\n",
       "        vertical-align: top;\n",
       "    }\n",
       "\n",
       "    .dataframe thead th {\n",
       "        text-align: right;\n",
       "    }\n",
       "</style>\n",
       "<table border=\"1\" class=\"dataframe\">\n",
       "  <thead>\n",
       "    <tr style=\"text-align: right;\">\n",
       "      <th></th>\n",
       "      <th>count</th>\n",
       "      <th>mean</th>\n",
       "      <th>std</th>\n",
       "      <th>min</th>\n",
       "      <th>25%</th>\n",
       "      <th>50%</th>\n",
       "      <th>75%</th>\n",
       "      <th>max</th>\n",
       "    </tr>\n",
       "  </thead>\n",
       "  <tbody>\n",
       "    <tr>\n",
       "      <th>Quantity</th>\n",
       "      <td>1067371.0</td>\n",
       "      <td>9.938898</td>\n",
       "      <td>172.705794</td>\n",
       "      <td>-80995.00</td>\n",
       "      <td>1.00</td>\n",
       "      <td>3.0</td>\n",
       "      <td>10.00</td>\n",
       "      <td>80995.0</td>\n",
       "    </tr>\n",
       "    <tr>\n",
       "      <th>Price</th>\n",
       "      <td>1067371.0</td>\n",
       "      <td>4.649388</td>\n",
       "      <td>123.553059</td>\n",
       "      <td>-53594.36</td>\n",
       "      <td>1.25</td>\n",
       "      <td>2.1</td>\n",
       "      <td>4.15</td>\n",
       "      <td>38970.0</td>\n",
       "    </tr>\n",
       "    <tr>\n",
       "      <th>Customer ID</th>\n",
       "      <td>824364.0</td>\n",
       "      <td>15324.638504</td>\n",
       "      <td>1697.464450</td>\n",
       "      <td>12346.00</td>\n",
       "      <td>13975.00</td>\n",
       "      <td>15255.0</td>\n",
       "      <td>16797.00</td>\n",
       "      <td>18287.0</td>\n",
       "    </tr>\n",
       "  </tbody>\n",
       "</table>\n",
       "</div>"
      ],
      "text/plain": [
       "                 count          mean          std       min       25%  \\\n",
       "Quantity     1067371.0      9.938898   172.705794 -80995.00      1.00   \n",
       "Price        1067371.0      4.649388   123.553059 -53594.36      1.25   \n",
       "Customer ID   824364.0  15324.638504  1697.464450  12346.00  13975.00   \n",
       "\n",
       "                 50%       75%      max  \n",
       "Quantity         3.0     10.00  80995.0  \n",
       "Price            2.1      4.15  38970.0  \n",
       "Customer ID  15255.0  16797.00  18287.0  "
      ]
     },
     "execution_count": 143,
     "metadata": {},
     "output_type": "execute_result"
    }
   ],
   "source": [
    "# Check descriptive statistics\n",
    "ret.describe().T"
   ]
  },
  {
   "cell_type": "code",
   "execution_count": 144,
   "id": "4bbf70e8",
   "metadata": {},
   "outputs": [
    {
     "data": {
      "text/html": [
       "<div>\n",
       "<style scoped>\n",
       "    .dataframe tbody tr th:only-of-type {\n",
       "        vertical-align: middle;\n",
       "    }\n",
       "\n",
       "    .dataframe tbody tr th {\n",
       "        vertical-align: top;\n",
       "    }\n",
       "\n",
       "    .dataframe thead th {\n",
       "        text-align: right;\n",
       "    }\n",
       "</style>\n",
       "<table border=\"1\" class=\"dataframe\">\n",
       "  <thead>\n",
       "    <tr style=\"text-align: right;\">\n",
       "      <th></th>\n",
       "      <th>Invoice</th>\n",
       "      <th>StockCode</th>\n",
       "      <th>Description</th>\n",
       "      <th>InvoiceDate</th>\n",
       "      <th>Country</th>\n",
       "    </tr>\n",
       "  </thead>\n",
       "  <tbody>\n",
       "    <tr>\n",
       "      <th>count</th>\n",
       "      <td>1067371</td>\n",
       "      <td>1067371</td>\n",
       "      <td>1062989</td>\n",
       "      <td>1067371</td>\n",
       "      <td>1067371</td>\n",
       "    </tr>\n",
       "    <tr>\n",
       "      <th>unique</th>\n",
       "      <td>53628</td>\n",
       "      <td>5305</td>\n",
       "      <td>5698</td>\n",
       "      <td>47635</td>\n",
       "      <td>43</td>\n",
       "    </tr>\n",
       "    <tr>\n",
       "      <th>top</th>\n",
       "      <td>537434</td>\n",
       "      <td>85123A</td>\n",
       "      <td>WHITE HANGING HEART T-LIGHT HOLDER</td>\n",
       "      <td>2010-12-06 16:57:00</td>\n",
       "      <td>United Kingdom</td>\n",
       "    </tr>\n",
       "    <tr>\n",
       "      <th>freq</th>\n",
       "      <td>1350</td>\n",
       "      <td>5829</td>\n",
       "      <td>5918</td>\n",
       "      <td>1350</td>\n",
       "      <td>981330</td>\n",
       "    </tr>\n",
       "  </tbody>\n",
       "</table>\n",
       "</div>"
      ],
      "text/plain": [
       "        Invoice StockCode                         Description  \\\n",
       "count   1067371   1067371                             1062989   \n",
       "unique    53628      5305                                5698   \n",
       "top      537434    85123A  WHITE HANGING HEART T-LIGHT HOLDER   \n",
       "freq       1350      5829                                5918   \n",
       "\n",
       "                InvoiceDate         Country  \n",
       "count               1067371         1067371  \n",
       "unique                47635              43  \n",
       "top     2010-12-06 16:57:00  United Kingdom  \n",
       "freq                   1350          981330  "
      ]
     },
     "execution_count": 144,
     "metadata": {},
     "output_type": "execute_result"
    }
   ],
   "source": [
    "ret.describe(include='object')"
   ]
  },
  {
   "cell_type": "code",
   "execution_count": 145,
   "id": "59722d04",
   "metadata": {},
   "outputs": [
    {
     "data": {
      "text/plain": [
       "19494"
      ]
     },
     "execution_count": 145,
     "metadata": {},
     "output_type": "execute_result"
    }
   ],
   "source": [
    "# Check length of cancelled transaction\n",
    "len(ret[ret['Invoice'].str.contains('C')])"
   ]
  },
  {
   "cell_type": "markdown",
   "id": "9791ae10",
   "metadata": {},
   "source": [
    "## Data Preparation"
   ]
  },
  {
   "cell_type": "code",
   "execution_count": 146,
   "id": "ff8f7e1d",
   "metadata": {},
   "outputs": [],
   "source": [
    "ret_prep = ret.copy()"
   ]
  },
  {
   "cell_type": "code",
   "execution_count": 147,
   "id": "d2bd2e45",
   "metadata": {},
   "outputs": [],
   "source": [
    "# Drop null value\n",
    "ret_prep.dropna(inplace=True)"
   ]
  },
  {
   "cell_type": "code",
   "execution_count": 148,
   "id": "66412169",
   "metadata": {},
   "outputs": [],
   "source": [
    "# Drop duplicate value\n",
    "ret_prep.drop_duplicates(inplace=True)"
   ]
  },
  {
   "cell_type": "code",
   "execution_count": 149,
   "id": "9fc18895",
   "metadata": {},
   "outputs": [],
   "source": [
    "# Drop cancelled transaction\n",
    "ret_prep = ret_prep[~ret_prep['Invoice'].str.contains('C')]"
   ]
  },
  {
   "cell_type": "code",
   "execution_count": 150,
   "id": "dfdab0d0",
   "metadata": {},
   "outputs": [],
   "source": [
    "# Change appropriate data types\n",
    "ret_prep['InvoiceDate'] = pd.to_datetime(ret_prep['InvoiceDate'])\n",
    "ret_prep['Customer ID'] = ret_prep['Customer ID'].astype(str)"
   ]
  },
  {
   "cell_type": "code",
   "execution_count": 151,
   "id": "e62ac07e",
   "metadata": {},
   "outputs": [
    {
     "data": {
      "text/plain": [
       "(779495, 8)"
      ]
     },
     "execution_count": 151,
     "metadata": {},
     "output_type": "execute_result"
    }
   ],
   "source": [
    "# Check shape after removing null and duplicate\n",
    "ret_prep.shape"
   ]
  },
  {
   "cell_type": "code",
   "execution_count": 152,
   "id": "22a02f7c",
   "metadata": {},
   "outputs": [],
   "source": [
    "# Make new feature 'Revenue'\n",
    "ret_prep['Revenue'] = ret_prep['Quantity'] * ret_prep['Price']"
   ]
  },
  {
   "cell_type": "code",
   "execution_count": 153,
   "id": "6dfc411c",
   "metadata": {},
   "outputs": [
    {
     "data": {
      "text/html": [
       "<div>\n",
       "<style scoped>\n",
       "    .dataframe tbody tr th:only-of-type {\n",
       "        vertical-align: middle;\n",
       "    }\n",
       "\n",
       "    .dataframe tbody tr th {\n",
       "        vertical-align: top;\n",
       "    }\n",
       "\n",
       "    .dataframe thead th {\n",
       "        text-align: right;\n",
       "    }\n",
       "</style>\n",
       "<table border=\"1\" class=\"dataframe\">\n",
       "  <thead>\n",
       "    <tr style=\"text-align: right;\">\n",
       "      <th></th>\n",
       "      <th>count</th>\n",
       "      <th>mean</th>\n",
       "      <th>std</th>\n",
       "      <th>min</th>\n",
       "      <th>25%</th>\n",
       "      <th>50%</th>\n",
       "      <th>75%</th>\n",
       "      <th>max</th>\n",
       "    </tr>\n",
       "  </thead>\n",
       "  <tbody>\n",
       "    <tr>\n",
       "      <th>Quantity</th>\n",
       "      <td>779495.0</td>\n",
       "      <td>13.507085</td>\n",
       "      <td>146.540284</td>\n",
       "      <td>1.0</td>\n",
       "      <td>2.00</td>\n",
       "      <td>6.00</td>\n",
       "      <td>12.00</td>\n",
       "      <td>80995.0</td>\n",
       "    </tr>\n",
       "    <tr>\n",
       "      <th>Price</th>\n",
       "      <td>779495.0</td>\n",
       "      <td>3.218199</td>\n",
       "      <td>29.674823</td>\n",
       "      <td>0.0</td>\n",
       "      <td>1.25</td>\n",
       "      <td>1.95</td>\n",
       "      <td>3.75</td>\n",
       "      <td>10953.5</td>\n",
       "    </tr>\n",
       "    <tr>\n",
       "      <th>Revenue</th>\n",
       "      <td>779495.0</td>\n",
       "      <td>22.289821</td>\n",
       "      <td>227.416962</td>\n",
       "      <td>0.0</td>\n",
       "      <td>4.95</td>\n",
       "      <td>12.48</td>\n",
       "      <td>19.80</td>\n",
       "      <td>168469.6</td>\n",
       "    </tr>\n",
       "  </tbody>\n",
       "</table>\n",
       "</div>"
      ],
      "text/plain": [
       "             count       mean         std  min   25%    50%    75%       max\n",
       "Quantity  779495.0  13.507085  146.540284  1.0  2.00   6.00  12.00   80995.0\n",
       "Price     779495.0   3.218199   29.674823  0.0  1.25   1.95   3.75   10953.5\n",
       "Revenue   779495.0  22.289821  227.416962  0.0  4.95  12.48  19.80  168469.6"
      ]
     },
     "execution_count": 153,
     "metadata": {},
     "output_type": "execute_result"
    }
   ],
   "source": [
    "# Check descriptive statistics\n",
    "ret_prep.describe().T"
   ]
  },
  {
   "cell_type": "code",
   "execution_count": 154,
   "id": "cdc21886",
   "metadata": {},
   "outputs": [
    {
     "data": {
      "text/html": [
       "<div>\n",
       "<style scoped>\n",
       "    .dataframe tbody tr th:only-of-type {\n",
       "        vertical-align: middle;\n",
       "    }\n",
       "\n",
       "    .dataframe tbody tr th {\n",
       "        vertical-align: top;\n",
       "    }\n",
       "\n",
       "    .dataframe thead th {\n",
       "        text-align: right;\n",
       "    }\n",
       "</style>\n",
       "<table border=\"1\" class=\"dataframe\">\n",
       "  <thead>\n",
       "    <tr style=\"text-align: right;\">\n",
       "      <th></th>\n",
       "      <th>Invoice</th>\n",
       "      <th>StockCode</th>\n",
       "      <th>Description</th>\n",
       "      <th>Customer ID</th>\n",
       "      <th>Country</th>\n",
       "    </tr>\n",
       "  </thead>\n",
       "  <tbody>\n",
       "    <tr>\n",
       "      <th>count</th>\n",
       "      <td>779495</td>\n",
       "      <td>779495</td>\n",
       "      <td>779495</td>\n",
       "      <td>779495</td>\n",
       "      <td>779495</td>\n",
       "    </tr>\n",
       "    <tr>\n",
       "      <th>unique</th>\n",
       "      <td>36975</td>\n",
       "      <td>4631</td>\n",
       "      <td>5283</td>\n",
       "      <td>5881</td>\n",
       "      <td>41</td>\n",
       "    </tr>\n",
       "    <tr>\n",
       "      <th>top</th>\n",
       "      <td>576339</td>\n",
       "      <td>85123A</td>\n",
       "      <td>WHITE HANGING HEART T-LIGHT HOLDER</td>\n",
       "      <td>17841.0</td>\n",
       "      <td>United Kingdom</td>\n",
       "    </tr>\n",
       "    <tr>\n",
       "      <th>freq</th>\n",
       "      <td>542</td>\n",
       "      <td>5023</td>\n",
       "      <td>5016</td>\n",
       "      <td>12435</td>\n",
       "      <td>700434</td>\n",
       "    </tr>\n",
       "  </tbody>\n",
       "</table>\n",
       "</div>"
      ],
      "text/plain": [
       "       Invoice StockCode                         Description Customer ID  \\\n",
       "count   779495    779495                              779495      779495   \n",
       "unique   36975      4631                                5283        5881   \n",
       "top     576339    85123A  WHITE HANGING HEART T-LIGHT HOLDER     17841.0   \n",
       "freq       542      5023                                5016       12435   \n",
       "\n",
       "               Country  \n",
       "count           779495  \n",
       "unique              41  \n",
       "top     United Kingdom  \n",
       "freq            700434  "
      ]
     },
     "execution_count": 154,
     "metadata": {},
     "output_type": "execute_result"
    }
   ],
   "source": [
    "ret_prep.describe(include='object')"
   ]
  },
  {
   "cell_type": "code",
   "execution_count": 155,
   "id": "017df731",
   "metadata": {},
   "outputs": [
    {
     "data": {
      "text/plain": [
       "70"
      ]
     },
     "execution_count": 155,
     "metadata": {},
     "output_type": "execute_result"
    }
   ],
   "source": [
    "# Check length of Price with 0 value\n",
    "len(ret_prep[ret_prep['Price']==0])"
   ]
  },
  {
   "cell_type": "code",
   "execution_count": 156,
   "id": "c775437a",
   "metadata": {},
   "outputs": [],
   "source": [
    "# Drop Price with 0 value\n",
    "ret_prep = ret_prep[ret_prep['Price']>0]"
   ]
  },
  {
   "cell_type": "code",
   "execution_count": 157,
   "id": "c4835d64",
   "metadata": {},
   "outputs": [
    {
     "data": {
      "text/html": [
       "<div>\n",
       "<style scoped>\n",
       "    .dataframe tbody tr th:only-of-type {\n",
       "        vertical-align: middle;\n",
       "    }\n",
       "\n",
       "    .dataframe tbody tr th {\n",
       "        vertical-align: top;\n",
       "    }\n",
       "\n",
       "    .dataframe thead th {\n",
       "        text-align: right;\n",
       "    }\n",
       "</style>\n",
       "<table border=\"1\" class=\"dataframe\">\n",
       "  <thead>\n",
       "    <tr style=\"text-align: right;\">\n",
       "      <th></th>\n",
       "      <th>count</th>\n",
       "      <th>mean</th>\n",
       "      <th>std</th>\n",
       "      <th>min</th>\n",
       "      <th>25%</th>\n",
       "      <th>50%</th>\n",
       "      <th>75%</th>\n",
       "      <th>max</th>\n",
       "    </tr>\n",
       "  </thead>\n",
       "  <tbody>\n",
       "    <tr>\n",
       "      <th>Quantity</th>\n",
       "      <td>779425.0</td>\n",
       "      <td>13.489370</td>\n",
       "      <td>145.855814</td>\n",
       "      <td>1.000</td>\n",
       "      <td>2.00</td>\n",
       "      <td>6.00</td>\n",
       "      <td>12.00</td>\n",
       "      <td>80995.0</td>\n",
       "    </tr>\n",
       "    <tr>\n",
       "      <th>Price</th>\n",
       "      <td>779425.0</td>\n",
       "      <td>3.218488</td>\n",
       "      <td>29.676140</td>\n",
       "      <td>0.001</td>\n",
       "      <td>1.25</td>\n",
       "      <td>1.95</td>\n",
       "      <td>3.75</td>\n",
       "      <td>10953.5</td>\n",
       "    </tr>\n",
       "    <tr>\n",
       "      <th>Revenue</th>\n",
       "      <td>779425.0</td>\n",
       "      <td>22.291823</td>\n",
       "      <td>227.427075</td>\n",
       "      <td>0.001</td>\n",
       "      <td>4.95</td>\n",
       "      <td>12.48</td>\n",
       "      <td>19.80</td>\n",
       "      <td>168469.6</td>\n",
       "    </tr>\n",
       "  </tbody>\n",
       "</table>\n",
       "</div>"
      ],
      "text/plain": [
       "             count       mean         std    min   25%    50%    75%       max\n",
       "Quantity  779425.0  13.489370  145.855814  1.000  2.00   6.00  12.00   80995.0\n",
       "Price     779425.0   3.218488   29.676140  0.001  1.25   1.95   3.75   10953.5\n",
       "Revenue   779425.0  22.291823  227.427075  0.001  4.95  12.48  19.80  168469.6"
      ]
     },
     "execution_count": 157,
     "metadata": {},
     "output_type": "execute_result"
    }
   ],
   "source": [
    "ret_prep.describe().T"
   ]
  },
  {
   "cell_type": "code",
   "execution_count": 158,
   "id": "d0f83ad4",
   "metadata": {},
   "outputs": [
    {
     "data": {
      "text/html": [
       "<div>\n",
       "<style scoped>\n",
       "    .dataframe tbody tr th:only-of-type {\n",
       "        vertical-align: middle;\n",
       "    }\n",
       "\n",
       "    .dataframe tbody tr th {\n",
       "        vertical-align: top;\n",
       "    }\n",
       "\n",
       "    .dataframe thead th {\n",
       "        text-align: right;\n",
       "    }\n",
       "</style>\n",
       "<table border=\"1\" class=\"dataframe\">\n",
       "  <thead>\n",
       "    <tr style=\"text-align: right;\">\n",
       "      <th></th>\n",
       "      <th>Invoice</th>\n",
       "      <th>StockCode</th>\n",
       "      <th>Description</th>\n",
       "      <th>Customer ID</th>\n",
       "      <th>Country</th>\n",
       "    </tr>\n",
       "  </thead>\n",
       "  <tbody>\n",
       "    <tr>\n",
       "      <th>count</th>\n",
       "      <td>779425</td>\n",
       "      <td>779425</td>\n",
       "      <td>779425</td>\n",
       "      <td>779425</td>\n",
       "      <td>779425</td>\n",
       "    </tr>\n",
       "    <tr>\n",
       "      <th>unique</th>\n",
       "      <td>36969</td>\n",
       "      <td>4631</td>\n",
       "      <td>5283</td>\n",
       "      <td>5878</td>\n",
       "      <td>41</td>\n",
       "    </tr>\n",
       "    <tr>\n",
       "      <th>top</th>\n",
       "      <td>576339</td>\n",
       "      <td>85123A</td>\n",
       "      <td>WHITE HANGING HEART T-LIGHT HOLDER</td>\n",
       "      <td>17841.0</td>\n",
       "      <td>United Kingdom</td>\n",
       "    </tr>\n",
       "    <tr>\n",
       "      <th>freq</th>\n",
       "      <td>542</td>\n",
       "      <td>5023</td>\n",
       "      <td>5016</td>\n",
       "      <td>12435</td>\n",
       "      <td>700388</td>\n",
       "    </tr>\n",
       "  </tbody>\n",
       "</table>\n",
       "</div>"
      ],
      "text/plain": [
       "       Invoice StockCode                         Description Customer ID  \\\n",
       "count   779425    779425                              779425      779425   \n",
       "unique   36969      4631                                5283        5878   \n",
       "top     576339    85123A  WHITE HANGING HEART T-LIGHT HOLDER     17841.0   \n",
       "freq       542      5023                                5016       12435   \n",
       "\n",
       "               Country  \n",
       "count           779425  \n",
       "unique              41  \n",
       "top     United Kingdom  \n",
       "freq            700388  "
      ]
     },
     "execution_count": 158,
     "metadata": {},
     "output_type": "execute_result"
    }
   ],
   "source": [
    "ret_prep.describe(include='object')"
   ]
  },
  {
   "cell_type": "code",
   "execution_count": 209,
   "id": "4c2d10dd",
   "metadata": {},
   "outputs": [
    {
     "name": "stdout",
     "output_type": "stream",
     "text": [
      "[12]\n",
      "[ 1  2  3  4  5  6  7  8  9 10 11 12]\n",
      "[ 1  2  3  4  5  6  7  8  9 10 11 12]\n"
     ]
    }
   ],
   "source": [
    "# Check if the date is appropriate\n",
    "print(ret_prep[ret_prep['InvoiceDate'].dt.year == 2009]['InvoiceDate'].dt.month.unique())\n",
    "print(ret_prep[ret_prep['InvoiceDate'].dt.year == 2010]['InvoiceDate'].dt.month.unique())\n",
    "print(ret_prep[ret_prep['InvoiceDate'].dt.year == 2011]['InvoiceDate'].dt.month.unique())"
   ]
  },
  {
   "cell_type": "markdown",
   "id": "42adb0f6",
   "metadata": {},
   "source": [
    "`Note`:\n",
    "- Total orders are 36969\n",
    "- Total products are 4631\n",
    "- Total customers are 5878\n",
    "- Total countries are 41 with UK is country with the most customers"
   ]
  },
  {
   "cell_type": "markdown",
   "id": "5d129ea8",
   "metadata": {},
   "source": [
    "#### RFM Analysis"
   ]
  },
  {
   "cell_type": "code",
   "execution_count": 521,
   "id": "c422592a",
   "metadata": {},
   "outputs": [],
   "source": [
    "ret_rfm = ret_prep.drop(['StockCode','Description','Country'],axis=1)"
   ]
  },
  {
   "cell_type": "code",
   "execution_count": 522,
   "id": "f8a8410a",
   "metadata": {},
   "outputs": [
    {
     "data": {
      "text/html": [
       "<div>\n",
       "<style scoped>\n",
       "    .dataframe tbody tr th:only-of-type {\n",
       "        vertical-align: middle;\n",
       "    }\n",
       "\n",
       "    .dataframe tbody tr th {\n",
       "        vertical-align: top;\n",
       "    }\n",
       "\n",
       "    .dataframe thead th {\n",
       "        text-align: right;\n",
       "    }\n",
       "</style>\n",
       "<table border=\"1\" class=\"dataframe\">\n",
       "  <thead>\n",
       "    <tr style=\"text-align: right;\">\n",
       "      <th></th>\n",
       "      <th>Invoice</th>\n",
       "      <th>Quantity</th>\n",
       "      <th>InvoiceDate</th>\n",
       "      <th>Price</th>\n",
       "      <th>Customer ID</th>\n",
       "      <th>Revenue</th>\n",
       "    </tr>\n",
       "  </thead>\n",
       "  <tbody>\n",
       "    <tr>\n",
       "      <th>0</th>\n",
       "      <td>489434</td>\n",
       "      <td>12</td>\n",
       "      <td>2009-12-01 07:45:00</td>\n",
       "      <td>6.95</td>\n",
       "      <td>13085.0</td>\n",
       "      <td>83.4</td>\n",
       "    </tr>\n",
       "    <tr>\n",
       "      <th>1</th>\n",
       "      <td>489434</td>\n",
       "      <td>12</td>\n",
       "      <td>2009-12-01 07:45:00</td>\n",
       "      <td>6.75</td>\n",
       "      <td>13085.0</td>\n",
       "      <td>81.0</td>\n",
       "    </tr>\n",
       "    <tr>\n",
       "      <th>2</th>\n",
       "      <td>489434</td>\n",
       "      <td>12</td>\n",
       "      <td>2009-12-01 07:45:00</td>\n",
       "      <td>6.75</td>\n",
       "      <td>13085.0</td>\n",
       "      <td>81.0</td>\n",
       "    </tr>\n",
       "    <tr>\n",
       "      <th>3</th>\n",
       "      <td>489434</td>\n",
       "      <td>48</td>\n",
       "      <td>2009-12-01 07:45:00</td>\n",
       "      <td>2.10</td>\n",
       "      <td>13085.0</td>\n",
       "      <td>100.8</td>\n",
       "    </tr>\n",
       "    <tr>\n",
       "      <th>4</th>\n",
       "      <td>489434</td>\n",
       "      <td>24</td>\n",
       "      <td>2009-12-01 07:45:00</td>\n",
       "      <td>1.25</td>\n",
       "      <td>13085.0</td>\n",
       "      <td>30.0</td>\n",
       "    </tr>\n",
       "  </tbody>\n",
       "</table>\n",
       "</div>"
      ],
      "text/plain": [
       "  Invoice  Quantity         InvoiceDate  Price Customer ID  Revenue\n",
       "0  489434        12 2009-12-01 07:45:00   6.95     13085.0     83.4\n",
       "1  489434        12 2009-12-01 07:45:00   6.75     13085.0     81.0\n",
       "2  489434        12 2009-12-01 07:45:00   6.75     13085.0     81.0\n",
       "3  489434        48 2009-12-01 07:45:00   2.10     13085.0    100.8\n",
       "4  489434        24 2009-12-01 07:45:00   1.25     13085.0     30.0"
      ]
     },
     "execution_count": 522,
     "metadata": {},
     "output_type": "execute_result"
    }
   ],
   "source": [
    "ret_rfm.head()"
   ]
  },
  {
   "cell_type": "code",
   "execution_count": 523,
   "id": "b530d76b",
   "metadata": {},
   "outputs": [],
   "source": [
    "# Get the number of when the action will be taken\n",
    "day = ret_rfm['InvoiceDate'].max() + timedelta(days=1)"
   ]
  },
  {
   "cell_type": "code",
   "execution_count": 524,
   "id": "ff8fc87d",
   "metadata": {},
   "outputs": [
    {
     "name": "stdout",
     "output_type": "stream",
     "text": [
      "2011-12-10 12:50:00\n"
     ]
    }
   ],
   "source": [
    "print(day)"
   ]
  },
  {
   "cell_type": "code",
   "execution_count": 525,
   "id": "cc3e44e2",
   "metadata": {},
   "outputs": [
    {
     "data": {
      "text/html": [
       "<div>\n",
       "<style scoped>\n",
       "    .dataframe tbody tr th:only-of-type {\n",
       "        vertical-align: middle;\n",
       "    }\n",
       "\n",
       "    .dataframe tbody tr th {\n",
       "        vertical-align: top;\n",
       "    }\n",
       "\n",
       "    .dataframe thead th {\n",
       "        text-align: right;\n",
       "    }\n",
       "</style>\n",
       "<table border=\"1\" class=\"dataframe\">\n",
       "  <thead>\n",
       "    <tr style=\"text-align: right;\">\n",
       "      <th></th>\n",
       "      <th>recency</th>\n",
       "      <th>frequency</th>\n",
       "      <th>monetary</th>\n",
       "    </tr>\n",
       "    <tr>\n",
       "      <th>Customer ID</th>\n",
       "      <th></th>\n",
       "      <th></th>\n",
       "      <th></th>\n",
       "    </tr>\n",
       "  </thead>\n",
       "  <tbody>\n",
       "    <tr>\n",
       "      <th>12346.0</th>\n",
       "      <td>326</td>\n",
       "      <td>34</td>\n",
       "      <td>77556.46</td>\n",
       "    </tr>\n",
       "    <tr>\n",
       "      <th>12347.0</th>\n",
       "      <td>2</td>\n",
       "      <td>222</td>\n",
       "      <td>4921.53</td>\n",
       "    </tr>\n",
       "    <tr>\n",
       "      <th>12348.0</th>\n",
       "      <td>75</td>\n",
       "      <td>51</td>\n",
       "      <td>2019.40</td>\n",
       "    </tr>\n",
       "    <tr>\n",
       "      <th>12349.0</th>\n",
       "      <td>19</td>\n",
       "      <td>175</td>\n",
       "      <td>4428.69</td>\n",
       "    </tr>\n",
       "    <tr>\n",
       "      <th>12350.0</th>\n",
       "      <td>310</td>\n",
       "      <td>17</td>\n",
       "      <td>334.40</td>\n",
       "    </tr>\n",
       "  </tbody>\n",
       "</table>\n",
       "</div>"
      ],
      "text/plain": [
       "             recency  frequency  monetary\n",
       "Customer ID                              \n",
       "12346.0          326         34  77556.46\n",
       "12347.0            2        222   4921.53\n",
       "12348.0           75         51   2019.40\n",
       "12349.0           19        175   4428.69\n",
       "12350.0          310         17    334.40"
      ]
     },
     "execution_count": 525,
     "metadata": {},
     "output_type": "execute_result"
    }
   ],
   "source": [
    "# Recency, Frequency, Monetary\n",
    "rec = ret_rfm.groupby('Customer ID').agg({'InvoiceDate': lambda date: (day-date.max()).days})\n",
    "freq = ret_rfm.groupby('Customer ID')[['Invoice']].count()\n",
    "mon = ret_rfm.groupby('Customer ID')[['Revenue']].sum()\n",
    "\n",
    "rfm = pd.concat([rec,freq,mon],axis=1)\n",
    "rfm = rfm.rename(columns=dict(zip(rfm.columns, ['recency','frequency','monetary'])))\n",
    "rfm.head()"
   ]
  },
  {
   "cell_type": "markdown",
   "id": "dc671be8",
   "metadata": {},
   "source": [
    "## Modelling"
   ]
  },
  {
   "cell_type": "markdown",
   "id": "db93b910",
   "metadata": {},
   "source": [
    "#### Predictive Segmentation using Kmeans"
   ]
  },
  {
   "cell_type": "code",
   "execution_count": 526,
   "id": "6f3661a1",
   "metadata": {},
   "outputs": [],
   "source": [
    "# Scaling\n",
    "scaler = StandardScaler()\n",
    "scaled = scaler.fit_transform(rfm)"
   ]
  },
  {
   "cell_type": "code",
   "execution_count": 527,
   "id": "a59c7375",
   "metadata": {},
   "outputs": [
    {
     "data": {
      "text/plain": [
       "[<matplotlib.lines.Line2D at 0x29bba4eea00>]"
      ]
     },
     "execution_count": 527,
     "metadata": {},
     "output_type": "execute_result"
    },
    {
     "data": {
      "image/png": "[encoded data removed]",
      "text/plain": [
       "<Figure size 500x500 with 1 Axes>"
      ]
     },
     "metadata": {},
     "output_type": "display_data"
    }
   ],
   "source": [
    "# Elbow method to see the best number of clusters\n",
    "inertia =[]\n",
    "for i in range(1,11):\n",
    "    kmeans=KMeans(n_clusters=i)\n",
    "    kmeans.fit(scaled)\n",
    "    inertia.append(kmeans.inertia_)\n",
    "    \n",
    "plt.figure(figsize=(5,5))\n",
    "plt.plot(inertia,marker='o')"
   ]
  },
  {
   "cell_type": "code",
   "execution_count": 528,
   "id": "a2ee895a",
   "metadata": {},
   "outputs": [],
   "source": [
    "# Clustering with 3 clusters\n",
    "kmeans=KMeans(n_clusters=3)\n",
    "kmeans.fit(scaled)\n",
    "rfm_df['cluster'] = kmeans.labels_ + 1"
   ]
  },
  {
   "cell_type": "code",
   "execution_count": 529,
   "id": "00034c9a",
   "metadata": {},
   "outputs": [
    {
     "data": {
      "text/html": [
       "<div>\n",
       "<style scoped>\n",
       "    .dataframe tbody tr th:only-of-type {\n",
       "        vertical-align: middle;\n",
       "    }\n",
       "\n",
       "    .dataframe tbody tr th {\n",
       "        vertical-align: top;\n",
       "    }\n",
       "\n",
       "    .dataframe thead th {\n",
       "        text-align: right;\n",
       "    }\n",
       "</style>\n",
       "<table border=\"1\" class=\"dataframe\">\n",
       "  <thead>\n",
       "    <tr style=\"text-align: right;\">\n",
       "      <th></th>\n",
       "      <th>recency</th>\n",
       "      <th>frequency</th>\n",
       "      <th>monetary</th>\n",
       "      <th>Revenue_30</th>\n",
       "      <th>is_buy_30</th>\n",
       "      <th>cluster</th>\n",
       "      <th>segment</th>\n",
       "    </tr>\n",
       "    <tr>\n",
       "      <th>Customer ID</th>\n",
       "      <th></th>\n",
       "      <th></th>\n",
       "      <th></th>\n",
       "      <th></th>\n",
       "      <th></th>\n",
       "      <th></th>\n",
       "      <th></th>\n",
       "    </tr>\n",
       "  </thead>\n",
       "  <tbody>\n",
       "    <tr>\n",
       "      <th>12346.0</th>\n",
       "      <td>326</td>\n",
       "      <td>34</td>\n",
       "      <td>77556.46</td>\n",
       "      <td>0.00</td>\n",
       "      <td>0.0</td>\n",
       "      <td>1</td>\n",
       "      <td>potential</td>\n",
       "    </tr>\n",
       "    <tr>\n",
       "      <th>12347.0</th>\n",
       "      <td>2</td>\n",
       "      <td>222</td>\n",
       "      <td>4921.53</td>\n",
       "      <td>1519.14</td>\n",
       "      <td>1.0</td>\n",
       "      <td>1</td>\n",
       "      <td>potential</td>\n",
       "    </tr>\n",
       "    <tr>\n",
       "      <th>12348.0</th>\n",
       "      <td>75</td>\n",
       "      <td>51</td>\n",
       "      <td>2019.40</td>\n",
       "      <td>310.00</td>\n",
       "      <td>1.0</td>\n",
       "      <td>1</td>\n",
       "      <td>potential</td>\n",
       "    </tr>\n",
       "    <tr>\n",
       "      <th>12349.0</th>\n",
       "      <td>19</td>\n",
       "      <td>175</td>\n",
       "      <td>4428.69</td>\n",
       "      <td>1757.55</td>\n",
       "      <td>1.0</td>\n",
       "      <td>1</td>\n",
       "      <td>potential</td>\n",
       "    </tr>\n",
       "    <tr>\n",
       "      <th>12350.0</th>\n",
       "      <td>310</td>\n",
       "      <td>17</td>\n",
       "      <td>334.40</td>\n",
       "      <td>0.00</td>\n",
       "      <td>0.0</td>\n",
       "      <td>2</td>\n",
       "      <td>risk</td>\n",
       "    </tr>\n",
       "  </tbody>\n",
       "</table>\n",
       "</div>"
      ],
      "text/plain": [
       "             recency  frequency  monetary  Revenue_30  is_buy_30  cluster  \\\n",
       "Customer ID                                                                 \n",
       "12346.0          326         34  77556.46        0.00        0.0        1   \n",
       "12347.0            2        222   4921.53     1519.14        1.0        1   \n",
       "12348.0           75         51   2019.40      310.00        1.0        1   \n",
       "12349.0           19        175   4428.69     1757.55        1.0        1   \n",
       "12350.0          310         17    334.40        0.00        0.0        2   \n",
       "\n",
       "               segment  \n",
       "Customer ID             \n",
       "12346.0      potential  \n",
       "12347.0      potential  \n",
       "12348.0      potential  \n",
       "12349.0      potential  \n",
       "12350.0           risk  "
      ]
     },
     "execution_count": 529,
     "metadata": {},
     "output_type": "execute_result"
    }
   ],
   "source": [
    "rfm_df.head()"
   ]
  },
  {
   "cell_type": "code",
   "execution_count": 530,
   "id": "729eebfb",
   "metadata": {},
   "outputs": [
    {
     "data": {
      "text/html": [
       "<div>\n",
       "<style scoped>\n",
       "    .dataframe tbody tr th:only-of-type {\n",
       "        vertical-align: middle;\n",
       "    }\n",
       "\n",
       "    .dataframe tbody tr th {\n",
       "        vertical-align: top;\n",
       "    }\n",
       "\n",
       "    .dataframe thead th {\n",
       "        text-align: right;\n",
       "    }\n",
       "</style>\n",
       "<table border=\"1\" class=\"dataframe\">\n",
       "  <thead>\n",
       "    <tr style=\"text-align: right;\">\n",
       "      <th></th>\n",
       "      <th>recency</th>\n",
       "      <th>frequency</th>\n",
       "      <th>monetary</th>\n",
       "    </tr>\n",
       "    <tr>\n",
       "      <th>cluster</th>\n",
       "      <th></th>\n",
       "      <th></th>\n",
       "      <th></th>\n",
       "    </tr>\n",
       "  </thead>\n",
       "  <tbody>\n",
       "    <tr>\n",
       "      <th>1</th>\n",
       "      <td>66.942621</td>\n",
       "      <td>163.220987</td>\n",
       "      <td>3351.012648</td>\n",
       "    </tr>\n",
       "    <tr>\n",
       "      <th>2</th>\n",
       "      <td>463.347870</td>\n",
       "      <td>41.672682</td>\n",
       "      <td>774.913114</td>\n",
       "    </tr>\n",
       "    <tr>\n",
       "      <th>3</th>\n",
       "      <td>3.500000</td>\n",
       "      <td>4627.571429</td>\n",
       "      <td>204556.047857</td>\n",
       "    </tr>\n",
       "  </tbody>\n",
       "</table>\n",
       "</div>"
      ],
      "text/plain": [
       "            recency    frequency       monetary\n",
       "cluster                                        \n",
       "1         66.942621   163.220987    3351.012648\n",
       "2        463.347870    41.672682     774.913114\n",
       "3          3.500000  4627.571429  204556.047857"
      ]
     },
     "execution_count": 530,
     "metadata": {},
     "output_type": "execute_result"
    }
   ],
   "source": [
    "rfm_df.groupby('cluster')['recency','frequency','monetary'].mean()"
   ]
  },
  {
   "cell_type": "code",
   "execution_count": 531,
   "id": "2327111b",
   "metadata": {},
   "outputs": [
    {
     "data": {
      "text/html": [
       "<div>\n",
       "<style scoped>\n",
       "    .dataframe tbody tr th:only-of-type {\n",
       "        vertical-align: middle;\n",
       "    }\n",
       "\n",
       "    .dataframe tbody tr th {\n",
       "        vertical-align: top;\n",
       "    }\n",
       "\n",
       "    .dataframe thead th {\n",
       "        text-align: right;\n",
       "    }\n",
       "</style>\n",
       "<table border=\"1\" class=\"dataframe\">\n",
       "  <thead>\n",
       "    <tr style=\"text-align: right;\">\n",
       "      <th></th>\n",
       "      <th>recency</th>\n",
       "      <th>frequency</th>\n",
       "      <th>monetary</th>\n",
       "      <th>Revenue_30</th>\n",
       "      <th>is_buy_30</th>\n",
       "      <th>cluster</th>\n",
       "      <th>segment</th>\n",
       "    </tr>\n",
       "    <tr>\n",
       "      <th>Customer ID</th>\n",
       "      <th></th>\n",
       "      <th></th>\n",
       "      <th></th>\n",
       "      <th></th>\n",
       "      <th></th>\n",
       "      <th></th>\n",
       "      <th></th>\n",
       "    </tr>\n",
       "  </thead>\n",
       "  <tbody>\n",
       "    <tr>\n",
       "      <th>12346.0</th>\n",
       "      <td>326</td>\n",
       "      <td>34</td>\n",
       "      <td>77556.46</td>\n",
       "      <td>0.00</td>\n",
       "      <td>0.0</td>\n",
       "      <td>1</td>\n",
       "      <td>potential</td>\n",
       "    </tr>\n",
       "    <tr>\n",
       "      <th>12347.0</th>\n",
       "      <td>2</td>\n",
       "      <td>222</td>\n",
       "      <td>4921.53</td>\n",
       "      <td>1519.14</td>\n",
       "      <td>1.0</td>\n",
       "      <td>1</td>\n",
       "      <td>potential</td>\n",
       "    </tr>\n",
       "    <tr>\n",
       "      <th>12348.0</th>\n",
       "      <td>75</td>\n",
       "      <td>51</td>\n",
       "      <td>2019.40</td>\n",
       "      <td>310.00</td>\n",
       "      <td>1.0</td>\n",
       "      <td>1</td>\n",
       "      <td>potential</td>\n",
       "    </tr>\n",
       "    <tr>\n",
       "      <th>12349.0</th>\n",
       "      <td>19</td>\n",
       "      <td>175</td>\n",
       "      <td>4428.69</td>\n",
       "      <td>1757.55</td>\n",
       "      <td>1.0</td>\n",
       "      <td>1</td>\n",
       "      <td>potential</td>\n",
       "    </tr>\n",
       "    <tr>\n",
       "      <th>12350.0</th>\n",
       "      <td>310</td>\n",
       "      <td>17</td>\n",
       "      <td>334.40</td>\n",
       "      <td>0.00</td>\n",
       "      <td>0.0</td>\n",
       "      <td>2</td>\n",
       "      <td>risk</td>\n",
       "    </tr>\n",
       "  </tbody>\n",
       "</table>\n",
       "</div>"
      ],
      "text/plain": [
       "             recency  frequency  monetary  Revenue_30  is_buy_30  cluster  \\\n",
       "Customer ID                                                                 \n",
       "12346.0          326         34  77556.46        0.00        0.0        1   \n",
       "12347.0            2        222   4921.53     1519.14        1.0        1   \n",
       "12348.0           75         51   2019.40      310.00        1.0        1   \n",
       "12349.0           19        175   4428.69     1757.55        1.0        1   \n",
       "12350.0          310         17    334.40        0.00        0.0        2   \n",
       "\n",
       "               segment  \n",
       "Customer ID             \n",
       "12346.0      potential  \n",
       "12347.0      potential  \n",
       "12348.0      potential  \n",
       "12349.0      potential  \n",
       "12350.0           risk  "
      ]
     },
     "execution_count": 531,
     "metadata": {},
     "output_type": "execute_result"
    }
   ],
   "source": [
    "seg_map = {\n",
    "    2:'risk', #recency very high, frequency very low, monetary very low\n",
    "    1:'potential', #recency low, frequency moderate, monetary moderate\n",
    "    3:'promising' #recency very low, frequency very high, monetary very high\n",
    "}\n",
    "rfm_df['segment'] = rfm_df['cluster'].replace(seg_map)\n",
    "rfm_df.head()"
   ]
  },
  {
   "cell_type": "code",
   "execution_count": 532,
   "id": "3de21a56",
   "metadata": {
    "scrolled": false
   },
   "outputs": [
    {
     "data": {
      "image/png": "[encoded data removed]",
      "text/plain": [
       "<Figure size 800x550 with 1 Axes>"
      ]
     },
     "metadata": {},
     "output_type": "display_data"
    }
   ],
   "source": [
    "fig = plt.figure()\n",
    "ax = fig.add_subplot(projection='3d')\n",
    "scatter = ax.scatter(rfm_df['recency'], rfm_df['frequency'], rfm_df['monetary'], c=rfm_df['cluster'], cmap='rocket_r',edgecolors='black',linewidths=0.1)\n",
    "ax.set_xlabel('Recency')\n",
    "ax.set_ylabel('Frequency')\n",
    "ax.set_zlabel('Monetary')\n",
    "\n",
    "legend_labels = ['Potential','Risk', 'Promising']\n",
    "ax.legend(handles=scatter.legend_elements()[0], labels=legend_labels)\n",
    "plt.show()"
   ]
  },
  {
   "cell_type": "code",
   "execution_count": 534,
   "id": "9d6aa74a",
   "metadata": {},
   "outputs": [
    {
     "data": {
      "text/plain": [
       "1    3869\n",
       "2    1995\n",
       "3      14\n",
       "Name: cluster, dtype: int64"
      ]
     },
     "execution_count": 534,
     "metadata": {},
     "output_type": "execute_result"
    }
   ],
   "source": [
    "rfm_df['cluster'].value_counts()"
   ]
  },
  {
   "cell_type": "markdown",
   "id": "911261e0",
   "metadata": {},
   "source": [
    "`Note`:\n",
    "- The model resulted 3 clusters which are potential with 3869 customers, risk with 1995 customers, and promising with 14 customers (this is just assumption)\n",
    "- Risk has very high recency, very low frequency, and very low monetary so it's not quite right to give them a campaign\n",
    "- Potential has low recency, moderate frequency, and moderate monetary so it's quite right to give them a campaign\n",
    "- Promising has very low recency, very high frequency, and very high monetary so it's right to give them a campaign"
   ]
  }
 ],
 "metadata": {
  "kernelspec": {
   "display_name": "Python 3 (ipykernel)",
   "language": "python",
   "name": "python3"
  },
  "language_info": {
   "codemirror_mode": {
    "name": "ipython",
    "version": 3
   },
   "file_extension": ".py",
   "mimetype": "text/x-python",
   "name": "python",
   "nbconvert_exporter": "python",
   "pygments_lexer": "ipython3",
   "version": "3.9.12"
  }
 },
 "nbformat": 4,
 "nbformat_minor": 5
}
